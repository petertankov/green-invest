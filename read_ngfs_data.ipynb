{
 "cells": [
  {
   "cell_type": "code",
   "execution_count": 58,
   "metadata": {},
   "outputs": [],
   "source": [
    "# This notebook allows to read the NGFS data from csv files provided by NGFS and create the required data files\n",
    "import numpy as np\n",
    "import pandas as pd\n",
    "import pickle\n",
    "def getNGFSvar(variable,model,years,df,fillNaN=False):\n",
    "    scenarios = ['Below 2°C', 'Current Policies', 'Delayed transition', \n",
    "                 'Divergent Net Zero', 'Nationally Determined Contributions (NDCs)', 'Net Zero 2050']\n",
    "    dfm = df[df[\"Model\"]==model]\n",
    "    res = np.zeros((len(scenarios),len(years)))\n",
    "    dfv = dfm[dfm[\"Variable\"]==variable]\n",
    "    for s in range(len(scenarios)):\n",
    "        dfs = dfv[dfv[\"Scenario\"]==scenarios[s]]\n",
    "        for y in range(len(years)):\n",
    "            res[s,y] = float(dfs[str(years[y])])\n",
    "        if(fillNaN):\n",
    "            res[s,:] = np.interp(years,years[~np.isnan(res[s,:])],res[s,~np.isnan(res[s,:])])\n",
    "    return res"
   ]
  },
  {
   "cell_type": "code",
   "execution_count": 14,
   "metadata": {},
   "outputs": [],
   "source": [
    "# Read the NGFS data files \n",
    "# This may take a long time\n",
    "# the files are downloaded from https://data.ene.iiasa.ac.at/ngfs/#/downloads\n",
    "df_downscaled = pd.read_excel(\"1665743477883-V3.4-NGFS-Phase-3/Downscaled_data.xlsx\")\n",
    "df_deu = df_downscaled[df_downscaled[\"Region\"]==\"DEU\"]\n",
    "\n",
    "df_iam = pd.read_excel(\"1665743477883-V3.4-NGFS-Phase-3/IAM_data.xlsx\")\n",
    "df_europe = df_iam[df_iam[\"Region\"]==\"REMIND-MAgPIE 3.0-4.4|EU 28\"]\n",
    "\n"
   ]
  },
  {
   "cell_type": "code",
   "execution_count": 101,
   "metadata": {},
   "outputs": [],
   "source": [
    "# Variables for the optimal exit problem\n",
    "years_exit = np.arange(2020,2055,5)\n",
    "P_E = getNGFSvar(\"Price|Secondary Energy|Electricity\",\"Downscaling [REMIND-MAgPIE 3.0-4.4]\",years_exit,df_deu)*1.19*0.86*3.6\n",
    "P_C = getNGFSvar(\"Price|Primary Energy|Coal\",\"Downscaling [REMIND-MAgPIE 3.0-4.4]\",years_exit,df_deu)*1.19*0.86*3.6\n",
    "P_CO2 = getNGFSvar(\"Price|Carbon\",\"Downscaling [REMIND-MAgPIE 3.0-4.4]\",years_exit,df_deu)*1.19*0.86\n",
    "R_U = getNGFSvar(\"Secondary Energy|Electricity|Coal|w/o CCS\",\"REMIND-MAgPIE 3.0-4.4\",years_exit,df_europe)/getNGFSvar(\"Capacity|Electricity|Coal|w/o CCS\",\"REMIND-MAgPIE 3.0-4.4\",years_exit,df_europe)*1000000/365.25/24/3.600\n",
    "emissions = getNGFSvar(\"Emissions|CO2|Energy\",\"Downscaling [REMIND-MAgPIE 3.0-4.4]\",years_exit,df_deu)*1e6\n",
    "CC = getNGFSvar(\"Capital Cost|Electricity|Coal|w/o CCS\",\"REMIND-MAgPIE 3.0-4.4\",years_exit,df_europe)[0,:]*1.19*0.86*1e3\n",
    "R_U[R_U>1] = 1\n",
    "# Prices are in USD2010. Need to convert them to EUR 2020\n",
    "# 1 USD 2010 = 1.19 USD 2020 (see\n",
    "# https://www.statista.com/statistics/1032048/value-us-dollar-since-1640/)\n",
    "# FX rate USD to EUR in 2020: 0.86\n",
    "# The factor 3.6 is to convert price per GJ into price per MWh\n",
    "\n",
    "pickle.dump({\"P_E\":P_E,\"P_C\":P_C,\"P_CO2\":P_CO2,\"R_U\":R_U,\"emissions\":emissions,\"CC\":CC}, open( \"ngfs_variables.p\", \"wb\" ) )\n",
    "\n",
    "\n"
   ]
  },
  {
   "cell_type": "code",
   "execution_count": 100,
   "metadata": {},
   "outputs": [],
   "source": [
    "# Variables for the optimal entry problem\n",
    "years_entry = np.arange(2020,2101,5)\n",
    "P_B = getNGFSvar(\"Price|Primary Energy|Biomass\",\"REMIND-MAgPIE 3.0-4.4\",years_entry,df_europe,fillNaN=True)*1.19*0.86*3.6\n",
    "P_B[:,:len(years_exit)] = getNGFSvar(\"Price|Primary Energy|Biomass\",\"Downscaling [REMIND-MAgPIE 3.0-4.4]\",years_exit,df_deu)*1.19*0.86*3.6\n",
    "P_E = getNGFSvar(\"Price|Secondary Energy|Electricity\",\"REMIND-MAgPIE 3.0-4.4\",years_entry,df_europe,fillNaN=True)*1.19*0.86*3.6\n",
    "P_E[:,:len(years_exit)] = getNGFSvar(\"Price|Secondary Energy|Electricity\",\"Downscaling [REMIND-MAgPIE 3.0-4.4]\",years_exit,df_deu)*1.19*0.86*3.6\n",
    "P_CO2 = getNGFSvar(\"Price|Carbon\",\"REMIND-MAgPIE 3.0-4.4\",years_entry,df_europe,fillNaN=True)*1.19*0.86\n",
    "P_CO2[:,:len(years_exit)] = getNGFSvar(\"Price|Carbon\",\"Downscaling [REMIND-MAgPIE 3.0-4.4]\",years_exit,df_deu)*1.19*0.86\n",
    "P_C = getNGFSvar(\"Price|Primary Energy|Coal\",\"REMIND-MAgPIE 3.0-4.4\",years_entry,df_europe,fillNaN=True)*1.19*0.86*3.6\n",
    "P_C[:,:len(years_exit)] = getNGFSvar(\"Price|Primary Energy|Coal\",\"Downscaling [REMIND-MAgPIE 3.0-4.4]\",years_exit,df_deu)*1.19*0.86*3.6\n",
    "\n",
    "R_U = getNGFSvar(\"Secondary Energy|Electricity|Coal|w/o CCS\",\"REMIND-MAgPIE 3.0-4.4\",years_entry,df_europe,fillNaN=True)/getNGFSvar(\"Capacity|Electricity|Coal|w/o CCS\",\"REMIND-MAgPIE 3.0-4.4\",years_entry,df_europe,fillNaN=True)*1000000/365.25/24/3.600\n",
    "\n",
    "emissions = getNGFSvar(\"Emissions|CO2|Energy\",\"REMIND-MAgPIE 3.0-4.4\",years_entry,df_europe,fillNaN=True)*1e6\n",
    "emissions[:,:len(years_exit)] = getNGFSvar(\"Emissions|CO2|Energy\",\"Downscaling [REMIND-MAgPIE 3.0-4.4]\",years_exit,df_deu)*1e6\n",
    "\n",
    "\n",
    "R_U_B = (getNGFSvar(\"Secondary Energy|Electricity|Biomass|w/o CCS\",\"REMIND-MAgPIE 3.0-4.4\",years_entry,df_europe,fillNaN=True)/\n",
    "         getNGFSvar(\"Capacity|Electricity|Biomass|w/o CCS\",\"REMIND-MAgPIE 3.0-4.4\",years_entry,df_europe,fillNaN=True))*1000000/365.25/24/3.600\n",
    "\n",
    "CC_B = getNGFSvar(\"Capital Cost|Electricity|Biomass|w/o CCS\",\"REMIND-MAgPIE 3.0-4.4\",years_entry,df_europe,fillNaN=True)[0,:]*1.19*0.86*1e3\n",
    "\n",
    "CC_C = getNGFSvar(\"Capital Cost|Electricity|Coal|w/ CCS\",\"REMIND-MAgPIE 3.0-4.4\",years_entry,df_europe,fillNaN=True)[0,:]*1.19*0.86*1e3\n",
    "\n",
    "\n",
    "\n",
    "R_U_B[R_U_B>1] = 1\n",
    "R_U[R_U>1] = 1\n",
    "\n",
    "\n",
    "pickle.dump({\"P_B\":P_B,\"P_E\":P_E,\"P_C\": P_C,\"P_CO2\":P_CO2,\"R_U\":R_U,\"R_U_B\": R_U_B,\"CC_B\":CC_B,\n",
    "             \"CC_C\":CC_C,\"emissions\": emissions}, open( \"ngfs_variables_entry.p\", \"wb\" ) )\n"
   ]
  },
  {
   "cell_type": "code",
   "execution_count": null,
   "metadata": {},
   "outputs": [],
   "source": []
  }
 ],
 "metadata": {
  "kernelspec": {
   "display_name": "Python 3",
   "language": "python",
   "name": "python3"
  },
  "language_info": {
   "codemirror_mode": {
    "name": "ipython",
    "version": 3
   },
   "file_extension": ".py",
   "mimetype": "text/x-python",
   "name": "python",
   "nbconvert_exporter": "python",
   "pygments_lexer": "ipython3",
   "version": "3.8.5"
  }
 },
 "nbformat": 4,
 "nbformat_minor": 4
}
